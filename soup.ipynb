{
 "cells": [
  {
   "cell_type": "code",
   "execution_count": 32,
   "id": "63c0797f",
   "metadata": {},
   "outputs": [],
   "source": [
    "import requests\n",
    "from bs4 import BeautifulSoup\n",
    "from tqdm import tqdm\n",
    "import json"
   ]
  },
  {
   "cell_type": "code",
   "execution_count": 36,
   "id": "d3c08227",
   "metadata": {},
   "outputs": [],
   "source": [
    "# We need to fetch current USD-RUB rate\n",
    "pr = requests.get(\"https://www.cbr-xml-daily.ru/daily_json.js\")\n",
    "p = json.loads(pr.content)\n",
    "usd = p[\"Valute\"][\"USD\"][\"Value\"]\n",
    "eur = p[\"Valute\"][\"EUR\"][\"Value\"]\n",
    "uah = p[\"Valute\"][\"UAH\"][\"Value\"]\n",
    "kzt = p[\"Valute\"][\"KZT\"][\"Value\"]"
   ]
  },
  {
   "cell_type": "code",
   "execution_count": 37,
   "id": "b15e5323",
   "metadata": {},
   "outputs": [],
   "source": [
    "divisions=[\"backend\", \"frontend\", \"apps\", \"software\", \"testing\", \"administration\", \"design\", \"management\",\\\n",
    "           \"marketing\", \"analytics\", \"sale\", \"content\", \"support\", \"hr\", \"office\", \"telecom\", \"other\", \"security\"]\n",
    "prices_avg = {}\n",
    "prices_max = {}\n",
    "headers = {\n",
    "    \"User-Agent\": \"Mozilla/5.0 \\\n",
    "           (Macintosh; Intel Mac OS X 10_10_1) \\\n",
    "           AppleWebKit/537.36 (KHTML, like Gecko) \\\n",
    "           Chrome/39.0.2171.95 Safari/537.36\"\n",
    "}"
   ]
  },
  {
   "cell_type": "code",
   "execution_count": 38,
   "id": "6fd17719",
   "metadata": {},
   "outputs": [
    {
     "name": "stderr",
     "output_type": "stream",
     "text": [
      "parsing...: 100%|██████████████████████████████████████████████████████████████████████████████████████████| 18/18 [05:41<00:00, 18.99s/it]\n"
     ]
    }
   ],
   "source": [
    "for i in tqdm(divisions, desc=\"parsing...\"):\n",
    "    page = 0\n",
    "    prices_avg[i] = []\n",
    "    prices[i] = []\n",
    "    while True:\n",
    "        if page == 0:\n",
    "            req = requests.get(\"https://career.habr.com/vacancies?divisions[]=\" + i + \"&type=all\", headers=headers)\n",
    "        else:\n",
    "            req = requests.get(\"https://career.habr.com/vacancies?divisions[]=\" + i + \"&type=all&page=\" + str(page),\\\n",
    "                              headers=headers)\n",
    "        if not req.ok:\n",
    "            break\n",
    "        sp = BeautifulSoup(req.content, \"html.parser\")\n",
    "        vc = sp.find_all(\"div\", \"vacancy-card\")\n",
    "        if vc == []:\n",
    "            break\n",
    "        for v in vc:\n",
    "            price_raw = v.find(\"div\", \"vacancy-card__salary\").find(\"div\", \"basic-salary\").text\n",
    "            if price_raw.strip() == \"\":\n",
    "                continue\n",
    "            price_s = price_raw.split()\n",
    "            nums = []\n",
    "            # We need to deal with spaces between numbers\n",
    "            for p in range(1, len(price_s)):\n",
    "                if price_s[p].isdigit() and price_s[p-1].isdigit():\n",
    "                    nums[len(nums)-1] += price_s[p]\n",
    "                elif price_s[p].isdigit():\n",
    "                    nums.append(price_s[p])\n",
    "            # Now we need to check the valute\n",
    "            v_sym = price_s[len(price_s) - 1]\n",
    "            mul = 1\n",
    "            if not v_sym.isdigit():\n",
    "                if v_sym == '₽':\n",
    "                    pass\n",
    "                elif v_sym == '$':\n",
    "                    mul = usd\n",
    "                elif v_sym == '€':\n",
    "                    mul = eur\n",
    "                elif v_sym == '₴':\n",
    "                    mul = uah\n",
    "                elif v_sym == '₸':\n",
    "                    mul = kzt\n",
    "            price_d = list(map(lambda x: int(x)*mul, nums))\n",
    "            price = sum(price_d)/len(price_d)\n",
    "            prices_avg[i].append(price)\n",
    "            prices[i].append(price_d[len(price_d)-1])\n",
    "        page += 1"
   ]
  },
  {
   "cell_type": "code",
   "execution_count": 40,
   "id": "74e5ef6f",
   "metadata": {},
   "outputs": [],
   "source": [
    "# Calculaing averages\n",
    "p_avg = {}\n",
    "p_avgmax = (\"\", 0)\n",
    "p_max = {}\n",
    "p_max_n = (\"\", 0)\n",
    "for i in prices_avg:\n",
    "    p_avg[i] = sum(prices_avg[i])/len(prices_avg[i])\n",
    "    if p_avg[i] > p_avgmax[1]:\n",
    "        p_avgmax = (i, p_avg[i])\n",
    "for i in prices:\n",
    "    p_max[i] = max(prices[i])\n",
    "    if p_max[i] > p_max_n[1]:\n",
    "        p_max_n = (i, p_max[i])"
   ]
  },
  {
   "cell_type": "code",
   "execution_count": 43,
   "id": "96398cfd",
   "metadata": {},
   "outputs": [
    {
     "name": "stdout",
     "output_type": "stream",
     "text": [
      "======Average salary======\n",
      "backend: 205283₽\n",
      "frontend: 178449₽\n",
      "apps: 210247₽\n",
      "software: 226479₽\n",
      "testing: 150429₽\n",
      "administration: 190334₽\n",
      "design: 146922₽\n",
      "management: 187976₽\n",
      "marketing: 137093₽\n",
      "analytics: 176217₽\n",
      "sale: 168885₽\n",
      "content: 71579₽\n",
      "support: 91021₽\n",
      "hr: 108108₽\n",
      "office: 40000₽\n",
      "telecom: 175000₽\n",
      "other: 183171₽\n",
      "security: 230000₽\n",
      "=======Max salaries=======\n",
      "backend: 3633209₽\n",
      "frontend: 1089963₽\n",
      "apps: 500000₽\n",
      "software: 8532650₽\n",
      "testing: 350000₽\n",
      "administration: 726641₽\n",
      "design: 300000₽\n",
      "management: 581313₽\n",
      "marketing: 252915₽\n",
      "analytics: 421525₽\n",
      "sale: 300000₽\n",
      "content: 150000₽\n",
      "support: 260000₽\n",
      "hr: 252915₽\n",
      "office: 40000₽\n",
      "telecom: 250000₽\n",
      "other: 337220₽\n",
      "security: 350000₽\n",
      "==========================\n",
      "The highest average salary is in the security division (230000)\n",
      "The absolute highest salary is in the software division (8532650)\n"
     ]
    }
   ],
   "source": [
    "print(\"======Average salary======\")\n",
    "for k in p_avg:\n",
    "    print(k, \": \", int(p_avg[k]), '₽', sep=\"\")\n",
    "    \n",
    "print(\"=======Max salaries=======\")\n",
    "\n",
    "for k in p_max:\n",
    "    print(k, \": \", int(p_max[k]), '₽', sep=\"\")\n",
    "\n",
    "print(\"==========================\")\n",
    "print(\"The highest average salary is in the \", p_avgmax[0], \" division (\", int(p_avgmax[1]), \")\", sep=\"\")\n",
    "print(\"The absolute highest salary is in the \", p_max_n[0], \" division (\", int(p_max_n[1]), \")\", sep=\"\")"
   ]
  },
  {
   "cell_type": "code",
   "execution_count": null,
   "id": "223e7909",
   "metadata": {},
   "outputs": [],
   "source": []
  }
 ],
 "metadata": {
  "kernelspec": {
   "display_name": "Python 3 (ipykernel)",
   "language": "python",
   "name": "python3"
  },
  "language_info": {
   "codemirror_mode": {
    "name": "ipython",
    "version": 3
   },
   "file_extension": ".py",
   "mimetype": "text/x-python",
   "name": "python",
   "nbconvert_exporter": "python",
   "pygments_lexer": "ipython3",
   "version": "3.9.7"
  }
 },
 "nbformat": 4,
 "nbformat_minor": 5
}
